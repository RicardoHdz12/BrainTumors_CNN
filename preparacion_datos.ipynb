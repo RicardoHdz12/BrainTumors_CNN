{
 "cells": [
  {
   "cell_type": "code",
   "execution_count": 11,
   "metadata": {},
   "outputs": [],
   "source": [
    "import tensorflow as tf\n",
    "import shutil\n",
    "import zipfile\n",
    "import os\n",
    "from sklearn.model_selection import train_test_split\n"
   ]
  },
  {
   "cell_type": "markdown",
   "metadata": {},
   "source": [
    "## Descomprimir archivo zip"
   ]
  },
  {
   "cell_type": "code",
   "execution_count": 12,
   "metadata": {},
   "outputs": [
    {
     "name": "stdout",
     "output_type": "stream",
     "text": [
      "Archivos extraídos en la carpeta: data\n"
     ]
    }
   ],
   "source": [
    "# Rutas\n",
    "archivo_zip = 'Imagenes_proyecto.zip'\n",
    "carpeta_destino = 'data'\n",
    "\n",
    "# Descomprimir el archivo ZIP\n",
    "with zipfile.ZipFile(archivo_zip, 'r') as zip_ref:\n",
    "    zip_ref.extractall(carpeta_destino)\n",
    "\n",
    "print(f'Archivos extraídos en la carpeta: {carpeta_destino}')"
   ]
  },
  {
   "cell_type": "markdown",
   "metadata": {},
   "source": [
    "## Obtener rutas de archivos de imágenes y organizar estos archivos en conjuntos de entrenamiento y validación, clasificándolos por categoría (etiqueta)."
   ]
  },
  {
   "cell_type": "code",
   "execution_count": 13,
   "metadata": {},
   "outputs": [],
   "source": [
    "def get_image_paths(directory_path):\n",
    "    image_paths = []\n",
    "    for root, dirs, files in os.walk(directory_path):\n",
    "        for file in files:\n",
    "            if file.lower().endswith(('.png', '.jpg', '.jpeg')):\n",
    "                image_paths.append(os.path.join(root, file))\n",
    "    return image_paths\n",
    "\n",
    "def organize_data(image_paths, label, train_dir, val_dir, test_dir, test_size=0.2, random_state=42):\n",
    "    # Divide los datos en entrenamiento (80%) y temp (20%)\n",
    "    train_paths, temp_paths = train_test_split(image_paths, test_size=test_size, random_state=random_state)\n",
    "    \n",
    "    # Divide temp en validación (50%) y prueba (50%)\n",
    "    val_paths, test_paths = train_test_split(temp_paths, test_size=0.5, random_state=random_state)\n",
    "\n",
    "    def copy_images(paths, dest_dir):\n",
    "        os.makedirs(dest_dir, exist_ok=True)\n",
    "        for path in paths:\n",
    "            shutil.copy(path, os.path.join(dest_dir, os.path.basename(path)))\n",
    "\n",
    "    train_label_dir = os.path.join(train_dir, label)\n",
    "    val_label_dir = os.path.join(val_dir, label)\n",
    "    test_label_dir = os.path.join(test_dir, label)\n",
    "\n",
    "    copy_images(train_paths, train_label_dir)\n",
    "    copy_images(val_paths, val_label_dir)\n",
    "    copy_images(test_paths, test_label_dir)\n",
    "\n",
    "    return len(train_paths), len(val_paths), len(test_paths)\n"
   ]
  },
  {
   "cell_type": "code",
   "execution_count": 14,
   "metadata": {},
   "outputs": [
    {
     "name": "stdout",
     "output_type": "stream",
     "text": [
      "Carpeta \"dataset_final\" creada con éxito.\n"
     ]
    }
   ],
   "source": [
    "\n",
    "#carpeta donbde se van a almacenar los datos de train y val\n",
    "working_dir = 'dataset_final'\n",
    "\n",
    "# Verifica si la carpeta ya existe\n",
    "if not os.path.exists(working_dir):\n",
    "    # Crea la carpeta si no existe\n",
    "    os.makedirs(working_dir)\n",
    "    print(f'Carpeta \"{working_dir}\" creada con éxito.')\n",
    "else:\n",
    "    print(f'La carpeta \"{working_dir}\" ya existe.')"
   ]
  },
  {
   "cell_type": "code",
   "execution_count": 15,
   "metadata": {},
   "outputs": [],
   "source": [
    "# Directorio donde se encuentran las imágenes \n",
    "glioma_tumor_dir = 'data\\\\Data\\\\glioma_tumor'\n",
    "meningioma_tumor_dir ='data\\\\Data\\\\meningioma_tumor'\n",
    "normal_dir = 'data\\\\Data\\\\normal'\n",
    "pituitary_tumor_dir = 'data\\\\Data\\\\pituitary_tumor'\n",
    "\n",
    "# Guardando las carpetas de train, val y test\n",
    "train_dir = os.path.join(working_dir, 'train')\n",
    "val_dir = os.path.join(working_dir, 'val')\n",
    "test_dir = os.path.join(working_dir, 'test') \n"
   ]
  },
  {
   "cell_type": "code",
   "execution_count": 16,
   "metadata": {},
   "outputs": [],
   "source": [
    "# Función get_image_paths\n",
    "glioma_image_paths = get_image_paths(glioma_tumor_dir)\n",
    "meningioma_image_paths = get_image_paths(meningioma_tumor_dir)\n",
    "normal_image_paths = get_image_paths(normal_dir)\n",
    "pituitary_image_paths = get_image_paths(pituitary_tumor_dir)\n",
    "\n",
    "# Función organize_data\n",
    "num_train_glioma, num_val_glioma, num_test_glioma = organize_data(glioma_image_paths, 'glioma_tumor', train_dir, val_dir, test_dir)\n",
    "num_train_meningioma, num_val_meningioma, num_test_meningioma = organize_data(meningioma_image_paths, 'meningioma_tumor', train_dir, val_dir, test_dir)\n",
    "num_train_normal, num_val_normal, num_test_normal = organize_data(normal_image_paths, 'normal', train_dir, val_dir, test_dir)\n",
    "num_train_pituitary, num_val_pituitary, num_test_pituitary = organize_data(pituitary_image_paths, 'pituitary_tumor', train_dir, val_dir, test_dir)\n"
   ]
  },
  {
   "cell_type": "code",
   "execution_count": 18,
   "metadata": {},
   "outputs": [
    {
     "name": "stdout",
     "output_type": "stream",
     "text": [
      "Número de imágenes de entrenamiento:\n",
      "Glioma: 720\n",
      "Meningioma: 730\n",
      "Normal: 350\n",
      "Pituitary: 675\n",
      "\n",
      "Número de imágenes de validación:\n",
      "Glioma: 90\n",
      "Meningioma: 91\n",
      "Normal: 44\n",
      "Pituitary: 84\n",
      "\n",
      "Número de imágenes de prueba:\n",
      "Glioma: 91\n",
      "Meningioma: 92\n",
      "Normal: 44\n",
      "Pituitary: 85\n"
     ]
    }
   ],
   "source": [
    "# Imprimir resultados\n",
    "print(\"Número de imágenes de entrenamiento:\")\n",
    "print(f\"Glioma: {num_train_glioma}\")\n",
    "print(f\"Meningioma: {num_train_meningioma}\")\n",
    "print(f\"Normal: {num_train_normal}\")\n",
    "print(f\"Pituitary: {num_train_pituitary}\")\n",
    "\n",
    "print(\"\\nNúmero de imágenes de validación:\")\n",
    "print(f\"Glioma: {num_val_glioma}\")\n",
    "print(f\"Meningioma: {num_val_meningioma}\")\n",
    "print(f\"Normal: {num_val_normal}\")\n",
    "print(f\"Pituitary: {num_val_pituitary}\")\n",
    "\n",
    "print(\"\\nNúmero de imágenes de prueba:\")\n",
    "print(f\"Glioma: {num_test_glioma}\")\n",
    "print(f\"Meningioma: {num_test_meningioma}\")\n",
    "print(f\"Normal: {num_test_normal}\")\n",
    "print(f\"Pituitary: {num_test_pituitary}\")"
   ]
  },
  {
   "cell_type": "code",
   "execution_count": null,
   "metadata": {},
   "outputs": [],
   "source": []
  }
 ],
 "metadata": {
  "kernelspec": {
   "display_name": "Python 3 (ipykernel)",
   "language": "python",
   "name": "python3"
  },
  "language_info": {
   "codemirror_mode": {
    "name": "ipython",
    "version": 3
   },
   "file_extension": ".py",
   "mimetype": "text/x-python",
   "name": "python",
   "nbconvert_exporter": "python",
   "pygments_lexer": "ipython3",
   "version": "3.11.2"
  }
 },
 "nbformat": 4,
 "nbformat_minor": 4
}
