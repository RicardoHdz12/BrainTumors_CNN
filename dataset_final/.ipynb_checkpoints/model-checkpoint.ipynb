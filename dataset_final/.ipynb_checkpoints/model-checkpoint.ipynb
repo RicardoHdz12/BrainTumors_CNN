{
 "cells": [
  {
   "cell_type": "markdown",
   "metadata": {
    "collapsed": true,
    "jupyter": {
     "outputs_hidden": true
    }
   },
   "source": [
    "## Preprocesamiento"
   ]
  },
  {
   "cell_type": "code",
   "execution_count": 1,
   "metadata": {},
   "outputs": [],
   "source": [
    "import os\n",
    "import tensorflow as tf \n",
    "from tensorflow.keras.preprocessing.image import ImageDataGenerator\n",
    "from tensorflow.keras.models import Sequential\n",
    "from tensorflow.keras.layers import Input, Dense, Flatten, Dropout\n",
    "import mlflow\n",
    "import mlflow.tensorflow"
   ]
  },
  {
   "cell_type": "code",
   "execution_count": 2,
   "metadata": {},
   "outputs": [
    {
     "name": "stdout",
     "output_type": "stream",
     "text": [
      "Directorio actual: C:\\Users\\Ricardo\\Desktop\\BrainTumors_CNN\\dataset_final\n"
     ]
    }
   ],
   "source": [
    "\n",
    "# Directorio actual\n",
    "directorio_actual = os.getcwd()\n",
    "print(f'Directorio actual: {directorio_actual}')\n",
    "\n",
    "# Obtener la ruta del directorio 'val'\n",
    "train_dir = os.path.join(directorio_actual, 'train')\n",
    "test_dir = os.path.join(directorio_actual, 'test')\n",
    "val_dir = os.path.join(directorio_actual, 'val')\n",
    "\n",
    "\n"
   ]
  },
  {
   "cell_type": "code",
   "execution_count": 3,
   "metadata": {},
   "outputs": [
    {
     "name": "stdout",
     "output_type": "stream",
     "text": [
      "Found 2475 images belonging to 4 classes.\n",
      "Found 309 images belonging to 4 classes.\n",
      "Found 312 images belonging to 4 classes.\n"
     ]
    }
   ],
   "source": [
    "batch_size = 32\n",
    "target_size = (224, 224)\n",
    "\n",
    "# Generador de datos para dataset de entrenamiento\n",
    "\n",
    "train_datagen = ImageDataGenerator(rescale=1./255.)\n",
    "\n",
    "train_dataset = train_datagen.flow_from_directory(\n",
    "    train_dir,\n",
    "    target_size=target_size,\n",
    "    batch_size=batch_size)\n",
    "\n",
    "\n",
    "# Generador de datos para dataset de validación\n",
    "val_datagen = ImageDataGenerator(rescale=1./255.)\n",
    "\n",
    "val_dataset = val_datagen.flow_from_directory(\n",
    "    val_dir,\n",
    "    target_size=target_size,\n",
    "    batch_size=batch_size)\n",
    "\n",
    "# Generador de datos para dataset de prueba\n",
    "test_datagen = ImageDataGenerator(rescale=1./255.)\n",
    "test_dataset = test_datagen.flow_from_directory(\n",
    "    test_dir,\n",
    "    target_size=target_size,\n",
    "    batch_size=batch_size)\n"
   ]
  },
  {
   "cell_type": "markdown",
   "metadata": {},
   "source": [
    "## Entrenamiento con MLflow"
   ]
  },
  {
   "cell_type": "code",
   "execution_count": null,
   "metadata": {},
   "outputs": [],
   "source": [
    "# base_model = tf.keras.applications.VGG16(input_shape=(224,224,3),include_top=False,weights='imagenet')\n",
    "# base_model.trainable = False\n",
    "# model=keras.models.Sequential()\n",
    "# model.add(base_model)\n",
    "# model.add(keras.layers.Flatten()) \n",
    "# model.add(keras.layers.Dropout(.5))\n",
    "# model.add(keras.layers.Dense(4,activation=tf.nn.softmax))\n",
    "# model.summary()"
   ]
  },
  {
   "cell_type": "code",
   "execution_count": 4,
   "metadata": {},
   "outputs": [
    {
     "data": {
      "text/html": [
       "<pre style=\"white-space:pre;overflow-x:auto;line-height:normal;font-family:Menlo,'DejaVu Sans Mono',consolas,'Courier New',monospace\">Repository initialized!\n",
       "</pre>\n"
      ],
      "text/plain": [
       "Repository initialized!\n"
      ]
     },
     "metadata": {},
     "output_type": "display_data"
    },
    {
     "data": {
      "text/plain": [
       "<ActiveRun: >"
      ]
     },
     "execution_count": 4,
     "metadata": {},
     "output_type": "execute_result"
    }
   ],
   "source": [
    "import dagshub\n",
    "import mlflow\n",
    "\n",
    "dagshub.init(\"BrainTumors_CNN\", \"RicardoHdz12\", mlflow=True)\n",
    "mlflow.start_run()"
   ]
  },
  {
   "cell_type": "code",
   "execution_count": 6,
   "metadata": {},
   "outputs": [
    {
     "name": "stdout",
     "output_type": "stream",
     "text": [
      "Model: \"sequential_1\"\n",
      "_________________________________________________________________\n",
      " Layer (type)                Output Shape              Param #   \n",
      "=================================================================\n",
      " vgg16 (Functional)          (None, 7, 7, 512)         14714688  \n",
      "                                                                 \n",
      " flatten_1 (Flatten)         (None, 25088)             0         \n",
      "                                                                 \n",
      " dropout_1 (Dropout)         (None, 25088)             0         \n",
      "                                                                 \n",
      " dense_1 (Dense)             (None, 4)                 100356    \n",
      "                                                                 \n",
      "=================================================================\n",
      "Total params: 14815044 (56.51 MB)\n",
      "Trainable params: 100356 (392.02 KB)\n",
      "Non-trainable params: 14714688 (56.13 MB)\n",
      "_________________________________________________________________\n"
     ]
    }
   ],
   "source": [
    "import mlflow\n",
    "import mlflow.tensorflow\n",
    "import tensorflow as tf\n",
    "from tensorflow.keras.models import Sequential\n",
    "from tensorflow.keras.layers import Flatten, Dropout, Dense\n",
    "\n",
    "# Definir la arquitectura del modelo\n",
    "base_model = tf.keras.applications.VGG16(input_shape=(224, 224, 3), include_top=False, weights='imagenet')\n",
    "base_model.trainable = False\n",
    "\n",
    "model = Sequential()\n",
    "model.add(base_model)\n",
    "model.add(Flatten())\n",
    "model.add(Dropout(0.5))\n",
    "model.add(Dense(4, activation=tf.nn.softmax))\n",
    "\n",
    "# Resumen del modelo\n",
    "model.summary()\n"
   ]
  },
  {
   "cell_type": "code",
   "execution_count": 9,
   "metadata": {},
   "outputs": [
    {
     "name": "stdout",
     "output_type": "stream",
     "text": [
      "Epoch 1/8\n",
      "78/78 [==============================] - 250s 3s/step - loss: 1.0914 - accuracy: 0.6117 - val_loss: 0.4701 - val_accuracy: 0.8155\n",
      "Epoch 2/8\n",
      "78/78 [==============================] - 248s 3s/step - loss: 0.4766 - accuracy: 0.8141 - val_loss: 0.5120 - val_accuracy: 0.7864\n",
      "Epoch 3/8\n",
      "78/78 [==============================] - 248s 3s/step - loss: 0.3313 - accuracy: 0.8784 - val_loss: 0.3540 - val_accuracy: 0.8738\n",
      "Epoch 4/8\n",
      "78/78 [==============================] - 248s 3s/step - loss: 0.2851 - accuracy: 0.8986 - val_loss: 0.4625 - val_accuracy: 0.8026\n",
      "Epoch 5/8\n",
      "78/78 [==============================] - 248s 3s/step - loss: 0.2484 - accuracy: 0.9059 - val_loss: 0.3238 - val_accuracy: 0.8932\n",
      "Epoch 6/8\n",
      "78/78 [==============================] - 248s 3s/step - loss: 0.1808 - accuracy: 0.9378 - val_loss: 0.3421 - val_accuracy: 0.8867\n",
      "Epoch 7/8\n",
      "78/78 [==============================] - 249s 3s/step - loss: 0.1538 - accuracy: 0.9471 - val_loss: 0.2747 - val_accuracy: 0.9126\n",
      "Epoch 8/8\n",
      "78/78 [==============================] - 249s 3s/step - loss: 0.1294 - accuracy: 0.9600 - val_loss: 0.3260 - val_accuracy: 0.8803\n"
     ]
    },
    {
     "name": "stderr",
     "output_type": "stream",
     "text": [
      "2023/11/13 01:50:31 WARNING mlflow.tensorflow: You are saving a TensorFlow Core model or Keras model without a signature. Inference with mlflow.pyfunc.spark_udf() will not work unless the model's pyfunc representation accepts pandas DataFrames as inference inputs.\n"
     ]
    },
    {
     "name": "stdout",
     "output_type": "stream",
     "text": [
      "INFO:tensorflow:Assets written to: C:\\Users\\Ricardo\\Desktop\\BrainTumors_CNN\\dataset_final\\model\\data\\model\\assets\n"
     ]
    },
    {
     "name": "stderr",
     "output_type": "stream",
     "text": [
      "INFO:tensorflow:Assets written to: C:\\Users\\Ricardo\\Desktop\\BrainTumors_CNN\\dataset_final\\model\\data\\model\\assets\n",
      "C:\\Users\\Ricardo\\Desktop\\BrainTumors_CNN\\venv\\Lib\\site-packages\\_distutils_hack\\__init__.py:33: UserWarning: Setuptools is replacing distutils.\n",
      "  warnings.warn(\"Setuptools is replacing distutils.\")\n"
     ]
    }
   ],
   "source": [
    "\n",
    "# Crear un experimento de MLflow\n",
    "experiment_name = \"tumores\"\n",
    "mlflow.set_experiment(experiment_name)\n",
    "\n",
    "# Compilar el modelo\n",
    "model.compile(optimizer='adam', loss='categorical_crossentropy', metrics=['accuracy'])\n",
    "\n",
    "# Iniciar un experimento de MLflow\n",
    "with mlflow.start_run(run_name=\"Neural Net\"):\n",
    "\n",
    "    # Registrar parámetros\n",
    "    mlflow.log_param(\"epochs\", 8)\n",
    "\n",
    "    # Entrenar el modelo\n",
    "    hist = model.fit(train_dataset, validation_data=val_dataset, epochs=8)\n",
    "\n",
    "    # Registrar métricas\n",
    "    mlflow.log_metric(\"final_accuracy\", hist.history['accuracy'][-1])\n",
    "    mlflow.log_metric(\"final_val_accuracy\", hist.history['val_accuracy'][-1])\n",
    "\n",
    "    # Guardar el modelo en formato TensorFlow\n",
    "    mlflow.tensorflow.save_model(model, \"model\")\n",
    "\n",
    "\n",
    "mlflow.end_run()\n"
   ]
  },
  {
   "cell_type": "code",
   "execution_count": null,
   "metadata": {},
   "outputs": [],
   "source": []
  },
  {
   "cell_type": "code",
   "execution_count": null,
   "metadata": {},
   "outputs": [],
   "source": []
  }
 ],
 "metadata": {
  "kernelspec": {
   "display_name": "Python 3 (ipykernel)",
   "language": "python",
   "name": "python3"
  },
  "language_info": {
   "codemirror_mode": {
    "name": "ipython",
    "version": 3
   },
   "file_extension": ".py",
   "mimetype": "text/x-python",
   "name": "python",
   "nbconvert_exporter": "python",
   "pygments_lexer": "ipython3",
   "version": "3.11.2"
  }
 },
 "nbformat": 4,
 "nbformat_minor": 4
}
